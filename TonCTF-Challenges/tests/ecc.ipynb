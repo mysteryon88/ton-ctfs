{
 "cells": [
  {
   "cell_type": "markdown",
   "id": "31b00392-dc1a-413f-8e55-8daf9f988bed",
   "metadata": {
    "collapsed": false
   },
   "source": [
    "- I solved it here\n",
    "    - https://cocalc.com/"
   ]
  },
  {
   "cell_type": "markdown",
   "metadata": {},
   "source": [
    "#### Look for `b`, check that they match."
   ]
  },
  {
   "cell_type": "code",
   "execution_count": 1,
   "id": "2b071329-e5be-4b51-9f03-bf7202b8b1fd",
   "metadata": {
    "collapsed": false
   },
   "outputs": [
    {
     "name": "stdout",
     "output_type": "stream",
     "text": [
      "0\n",
      "0\n"
     ]
    }
   ],
   "source": [
    "p = 769908256801249\n",
    "\n",
    "def get_b(x, y):\n",
    "    b = (y**2 - x**3 - 2 * (x**2) - x) % p\n",
    "    return b\n",
    "\n",
    "x1 = 232682398601200\n",
    "y1 = 266866051136644\n",
    "print(get_b(x1, y1))\n",
    "\n",
    "x2 = 565954914175128\n",
    "y2 = 196353530004690\n",
    "print(get_b(x2, y2))"
   ]
  },
  {
   "cell_type": "markdown",
   "id": "abd6bca1-8992-444e-8da1-e825d307a6d9",
   "metadata": {
    "collapsed": false
   },
   "source": [
    "#### Looking for the square root of the non-zero root of the curve $y^2 = x(x+1)^2: p-1$"
   ]
  },
  {
   "cell_type": "code",
   "execution_count": null,
   "id": "6f4d9a90-b988-448e-a1a2-55e832be3fb0",
   "metadata": {
    "collapsed": false
   },
   "outputs": [
    {
     "data": {
      "text/plain": [
       "171237201247109"
      ]
     },
     "execution_count": 2,
     "metadata": {},
     "output_type": "execute_result"
    }
   ],
   "source": [
    "x = Mod(769908256801248, 769908256801249)\n",
    "x.square_root()"
   ]
  },
  {
   "cell_type": "markdown",
   "id": "9692370a-7ceb-4445-b6c8-ec98a172ac20",
   "metadata": {
    "collapsed": false
   },
   "source": [
    "#### Let's reduce to discrete logarithmization"
   ]
  },
  {
   "cell_type": "code",
   "execution_count": 4,
   "id": "27e0e514-0514-43d5-9fb4-b6d29beff0c3",
   "metadata": {
    "collapsed": false
   },
   "outputs": [
    {
     "name": "stdout",
     "output_type": "stream",
     "text": [
      "120339949379750 335357999615535\n",
      "45514416202853\n"
     ]
    }
   ],
   "source": [
    "p = 769908256801249\n",
    "\n",
    "x1 = 232682398601200\n",
    "y1 = 266866051136644\n",
    "\n",
    "x2 = 565954914175128\n",
    "y2 = 196353530004690\n",
    "\n",
    "p_1 = p - 1\n",
    "p_s = 171237201247109\n",
    "\n",
    "g = ((y1 + p_s * (x1 - p_1)) / (y1 - p_s * (x1 - p_1))) % p\n",
    "v = ((y2 + p_s * (x2 - p_1)) / (y2 - p_s * (x2 - p_1))) % p\n",
    "print(g, v)\n",
    "\n",
    "g1 = GF(p)(120339949379750)\n",
    "g2 = GF(p)(335357999615535)\n",
    "#g = (y1 + p_1 * (x1 - p_s)) / (y1 - p_1 * (x1 - p_s))\n",
    "#v = (y2 + p_1 * (x2 - p_s)) / (y2 - p_1 * (x2 - p_s))\n",
    "print(discrete_log(g2, g1))\n",
    "\n"
   ]
  }
 ],
 "metadata": {
  "kernelspec": {
   "argv": [
    "sage-10.4",
    "--python",
    "-m",
    "sage.repl.ipython_kernel",
    "--matplotlib=inline",
    "-f",
    "{connection_file}"
   ],
   "display_name": "SageMath 10.4",
   "env": {},
   "language": "sagemath",
   "metadata": {
    "cocalc": {
     "description": "Open-source mathematical software system",
     "priority": 10,
     "url": "https://www.sagemath.org/"
    }
   },
   "name": "sage-10.4",
   "resource_dir": "/ext/jupyter/kernels/sage-10.4"
  },
  "language_info": {
   "codemirror_mode": {
    "name": "ipython",
    "version": 3
   },
   "file_extension": ".py",
   "mimetype": "text/x-python",
   "name": "python",
   "nbconvert_exporter": "python",
   "pygments_lexer": "ipython3",
   "version": "3.12.4"
  }
 },
 "nbformat": 4,
 "nbformat_minor": 4
}
